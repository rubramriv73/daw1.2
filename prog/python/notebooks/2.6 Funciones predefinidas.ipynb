{
 "cells": [
  {
   "cell_type": "markdown",
   "metadata": {},
   "source": [
    "# Funciones predefinidas"
   ]
  },
  {
   "cell_type": "markdown",
   "metadata": {},
   "source": [
    "### Conversiones"
   ]
  },
  {
   "cell_type": "code",
   "execution_count": null,
   "metadata": {},
   "outputs": [],
   "source": [
    "edad = 25\n",
    "nombre = \"Menganito\""
   ]
  },
  {
   "cell_type": "markdown",
   "metadata": {},
   "source": [
    "Quiero concatenar nombre y edad"
   ]
  },
  {
   "cell_type": "code",
   "execution_count": null,
   "metadata": {},
   "outputs": [],
   "source": [
    "# Esto falla\n",
    "cadena = nombre + \" tiene \" + edad + \"años\""
   ]
  },
  {
   "cell_type": "code",
   "execution_count": null,
   "metadata": {},
   "outputs": [],
   "source": [
    "# Esto no falla\n",
    "cadena = nombre + \" tiene \" + str(edad) + \" años\""
   ]
  },
  {
   "cell_type": "code",
   "execution_count": null,
   "metadata": {},
   "outputs": [],
   "source": [
    "print(cadena)"
   ]
  },
  {
   "cell_type": "markdown",
   "metadata": {},
   "source": [
    "### Redondeos"
   ]
  },
  {
   "cell_type": "code",
   "execution_count": null,
   "metadata": {},
   "outputs": [],
   "source": [
    "x = input(\"Dame un número con decimales: \") # devuelve str\n",
    "x = float(x) # convierto str a float"
   ]
  },
  {
   "cell_type": "code",
   "execution_count": null,
   "metadata": {},
   "outputs": [],
   "source": [
    "print(x, \"redondeado a entero.......:\", round(x))\n",
    "print(x, \"redondeado a un decimal...:\", round(x, 1))\n",
    "print(x, \"redondeado a dos decimales:\", round(x, 2))"
   ]
  },
  {
   "cell_type": "markdown",
   "metadata": {},
   "source": [
    "## Módulos\n",
    "\n",
    "Python también proporciona funciones que no están directamente disponibles, pertenecen a módulos que deben ser importados."
   ]
  },
  {
   "cell_type": "code",
   "execution_count": 7,
   "metadata": {},
   "outputs": [],
   "source": [
    "from math import floor, ceil, sqrt\n",
    "# from math import *"
   ]
  },
  {
   "cell_type": "code",
   "execution_count": 8,
   "metadata": {},
   "outputs": [],
   "source": [
    "x = 5.324567891234"
   ]
  },
  {
   "cell_type": "code",
   "execution_count": 9,
   "metadata": {},
   "outputs": [
    {
     "name": "stdout",
     "output_type": "stream",
     "text": [
      "Redondeo hacia abajo de 5.324567891234 es 5\n",
      "Redondeo hacia arriba de 5.324567891234 es 6\n",
      "La raíz cuadrada de 5.324567891234 es 2.3075025224761947\n"
     ]
    }
   ],
   "source": [
    "print(\"Redondeo hacia abajo de\", x, \"es\", floor(x))\n",
    "print(\"Redondeo hacia arriba de\", x, \"es\", ceil(x))\n",
    "print(\"La raíz cuadrada de\", x, \"es\", sqrt(x))"
   ]
  },
  {
   "cell_type": "markdown",
   "metadata": {},
   "source": [
    "Otra forma de usar módulos"
   ]
  },
  {
   "cell_type": "code",
   "execution_count": 11,
   "metadata": {},
   "outputs": [
    {
     "name": "stdout",
     "output_type": "stream",
     "text": [
      "3^2 es 9.0 y e^3 es 20.085536923187668\n",
      "3^2 es 9.0 y e^3 es 20.085536923187668\n"
     ]
    }
   ],
   "source": [
    "import math\n",
    "\n",
    "# ponemos el nombre del módulo delante de la función\n",
    "x = 3\n",
    "x2 = math.pow(x, 2)\n",
    "ex = math.exp(x)\n",
    "\n",
    "# salida usando cadenas f\n",
    "print(f\"{x}^2 es {x2} y e^{x} es {ex}\")\n",
    "# escribe lo mismo\n",
    "print(f\"{x}^2 es {math.pow(x,2)} y e^{x} es {math.exp(x)}\")"
   ]
  },
  {
   "cell_type": "markdown",
   "metadata": {},
   "source": [
    "##Métodos"
   ]
  },
  {
   "cell_type": "code",
   "execution_count": 13,
   "metadata": {},
   "outputs": [
    {
     "name": "stdout",
     "output_type": "stream",
     "text": [
      "Fulanito de Copas en mayúsculas FULANITO DE COPAS\n",
      "Fulanito de Copas en minúsculas fulanito de copas\n"
     ]
    }
   ],
   "source": [
    "nombre = \"Fulanito de Copas\"\n",
    "print(nombre, \"en mayúsculas:\", nombre.upper())\n",
    "print(nombre, \"en minúsculas:\", nombre.lower())"
   ]
  },
  {
   "cell_type": "code",
   "execution_count": null,
   "metadata": {},
   "outputs": [],
   "source": []
  }
 ],
 "metadata": {
  "kernelspec": {
   "display_name": "Python 3",
   "language": "python",
   "name": "python3"
  },
  "language_info": {
   "codemirror_mode": {
    "name": "ipython",
    "version": 3
   },
   "file_extension": ".py",
   "mimetype": "text/x-python",
   "name": "python",
   "nbconvert_exporter": "python",
   "pygments_lexer": "ipython3",
   "version": "3.7.3"
  }
 },
 "nbformat": 4,
 "nbformat_minor": 2
}
