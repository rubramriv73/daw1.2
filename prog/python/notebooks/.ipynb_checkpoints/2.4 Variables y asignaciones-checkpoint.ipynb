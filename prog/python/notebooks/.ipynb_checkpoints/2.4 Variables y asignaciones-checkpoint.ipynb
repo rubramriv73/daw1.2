{
 "cells": [
  {
   "cell_type": "markdown",
   "metadata": {
    "slideshow": {
     "slide_type": "-"
    }
   },
   "source": [
    "# Variables y asignaciones en Python\n",
    "\n",
    "En ocasiones deseamos que el ordenador recuerde ciertos valores para usarlos más adelante. Para ello usamos variables y asignaciones.\n",
    "\n",
    "Formato: *variable* = *expresión*\n",
    "\n",
    "A tener en cuenta:\n",
    "\n",
    "* Las asignaciones son *mudas*.\n",
    "* Una variable debe ser inicializada.\n",
    "* Comparar NO es asignar.\n",
    "* Una asignación NO es una ecuación.\n",
    "* Un identificador de variable no puede coincicidir con una palabra reservada."
   ]
  },
  {
   "cell_type": "code",
   "execution_count": 3,
   "metadata": {},
   "outputs": [
    {
     "name": "stdout",
     "output_type": "stream",
     "text": [
      "Valor de PI es 3.14159\n"
     ]
    }
   ],
   "source": [
    "print(\"Valor de PI es\", PI)"
   ]
  },
  {
   "cell_type": "markdown",
   "metadata": {},
   "source": [
    "¿Por qué falla?"
   ]
  },
  {
   "cell_type": "code",
   "execution_count": 2,
   "metadata": {},
   "outputs": [
    {
     "name": "stdout",
     "output_type": "stream",
     "text": [
      "Longitud de la circunferencia: 31.4159\n",
      "Área de la circunferencia....: 78.53975\n"
     ]
    }
   ],
   "source": [
    "# Este programa calcula la longitud y área de una circunferencia.\n",
    "\n",
    "PI = 3.14159\n",
    "radio = 5\n",
    "\n",
    "# Cálculos\n",
    "# --------\n",
    "# La fórmula para calcular la longitud de una circunferencia es 2*PI*radio.\n",
    "# La fórmula para calcular el área de una circunferencia es PI*radio²\n",
    "longitud = 2*PI*radio \n",
    "area = PI*radio*radio\n",
    "\n",
    "# Salida\n",
    "print(\"Longitud de la circunferencia:\", longitud)\n",
    "print(\"Área de la circunferencia....:\", area)"
   ]
  },
  {
   "cell_type": "markdown",
   "metadata": {},
   "source": [
    "Podemos pedir el *radio* al usuario y usar el operador de *exponenciación*.\n",
    "\n",
    "Lo vamos a ver paso a paso."
   ]
  },
  {
   "cell_type": "code",
   "execution_count": null,
   "metadata": {},
   "outputs": [],
   "source": [
    "# Este programa calcula la longitud y área de una circunferencia.\n",
    "\n",
    "# Constantes\n",
    "PI = 3.14159"
   ]
  },
  {
   "cell_type": "code",
   "execution_count": null,
   "metadata": {},
   "outputs": [],
   "source": [
    "# Pedimos datos\n",
    "radio = input(\"Dame el radio de la circunferencia \")"
   ]
  },
  {
   "cell_type": "markdown",
   "metadata": {},
   "source": [
    "Hacemos los cálculos..."
   ]
  },
  {
   "cell_type": "code",
   "execution_count": null,
   "metadata": {},
   "outputs": [],
   "source": [
    "# Cálculos\n",
    "# --------\n",
    "# La fórmula para calcular la longitud de una circunferencia es 2*PI*radio.\n",
    "# La fórmula para calcular el área de una circunferencia es PI*radio²\n",
    "longitud = 2*PI*radio \n",
    "area = PI*radio**2\n",
    "\n",
    "# Salida\n",
    "print(\"Longitud de la circunferencia:\", longitud)\n",
    "print(\"Área de la circunferencia....:\", area)"
   ]
  },
  {
   "cell_type": "markdown",
   "metadata": {},
   "source": [
    "**¡Y falla! ¿por qué?**"
   ]
  },
  {
   "cell_type": "markdown",
   "metadata": {},
   "source": [
    "## Una asignación NO es una ecuación"
   ]
  },
  {
   "cell_type": "code",
   "execution_count": null,
   "metadata": {},
   "outputs": [],
   "source": [
    "n = 10\n",
    "print(\"Valor de n:\", n)"
   ]
  },
  {
   "cell_type": "markdown",
   "metadata": {},
   "source": [
    "En una ecuación esto no tiene sentido, en una asignación sí..."
   ]
  },
  {
   "cell_type": "code",
   "execution_count": null,
   "metadata": {},
   "outputs": [],
   "source": [
    "n = n+1\n",
    "print(\"Valor de n después de hacer 'n = n+1':\", n)"
   ]
  },
  {
   "cell_type": "markdown",
   "metadata": {},
   "source": [
    "En Python podemos usar el operador += para incrementar el valor de una variable"
   ]
  },
  {
   "cell_type": "code",
   "execution_count": null,
   "metadata": {},
   "outputs": [],
   "source": [
    "n += 1\n",
    "print(\"Valor de n después de hacer 'n += 1':\", n)\n",
    "\n",
    "n += 5\n",
    "print(\"Valor de n después de hacer 'n += 5':\", n)"
   ]
  },
  {
   "cell_type": "markdown",
   "metadata": {},
   "source": [
    "Y también podemos usar -=, *= ó /="
   ]
  },
  {
   "cell_type": "code",
   "execution_count": null,
   "metadata": {},
   "outputs": [],
   "source": [
    "n -= 5\n",
    "print(\"Valor de n después de hacer 'n -= 5':\", n)\n",
    "\n",
    "n *= 2\n",
    "print(\"Valor de n después de hacer 'n *= 2':\", n)"
   ]
  },
  {
   "cell_type": "code",
   "execution_count": null,
   "metadata": {},
   "outputs": [],
   "source": []
  }
 ],
 "metadata": {
  "kernelspec": {
   "display_name": "Python 3",
   "language": "python",
   "name": "python3"
  },
  "language_info": {
   "codemirror_mode": {
    "name": "ipython",
    "version": 3
   },
   "file_extension": ".py",
   "mimetype": "text/x-python",
   "name": "python",
   "nbconvert_exporter": "python",
   "pygments_lexer": "ipython3",
   "version": "3.8.3"
  }
 },
 "nbformat": 4,
 "nbformat_minor": 2
}
