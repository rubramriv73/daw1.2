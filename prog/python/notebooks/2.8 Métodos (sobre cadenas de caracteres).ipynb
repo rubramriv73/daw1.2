{
 "cells": [
  {
   "cell_type": "markdown",
   "metadata": {},
   "source": [
    "# Métodos\n",
    "\n",
    "Los datos de ciertos tipos permiten invocar unas funciones especiales: los denominados «métodos». \n",
    "\n",
    "Las funciones se invocan así: *función(argumento1, argumento2, argumento3, ...)*. \n",
    "\n",
    "Los métodos son funciones especiales y se invocan del siguiente modo:\n",
    "*argumento1.método(argumento2, argumento3, ...)*. Esta sintaxis recalca el hecho de que, para un método, el primer argumento es muy especial. Es como el sujeto de una frase de la que el método es el verbo."
   ]
  },
  {
   "cell_type": "markdown",
   "metadata": {},
   "source": [
    "### Ejemplos de métodos para manipular cadenas ###"
   ]
  },
  {
   "cell_type": "code",
   "execution_count": null,
   "metadata": {},
   "outputs": [],
   "source": [
    "cadena = \"un EJEMPLO de Cadena\"\n",
    "\n",
    "cadena_mayusculas = cadena.upper()\n",
    "cadena_minusculas = cadena.lower()\n",
    "\n",
    "print(\"-\" + cadena + \"-\", \"en mayúsculas:\", cadena_mayusculas)\n",
    "print(\"-\" + cadena + \"-\", \"en minúsculas:\", cadena_minusculas)"
   ]
  },
  {
   "cell_type": "code",
   "execution_count": null,
   "metadata": {},
   "outputs": [],
   "source": [
    "cadena_mayusculas = \"otro EJEMPLO de Cadena\".lower()\n",
    "cadena_minusculas = cadena_mayusculas.upper()\n",
    "\n",
    "print(\"-\" + cadena + \"-\", \"en mayúsculas\", cadena_mayusculas)\n",
    "print(\"-\" + cadena + \"-\", \"en minúsculas\", cadena_mayusculas)"
   ]
  },
  {
   "cell_type": "code",
   "execution_count": null,
   "metadata": {},
   "outputs": [],
   "source": [
    "cadena = \"y más ejemplos de cadenas...\""
   ]
  },
  {
   "cell_type": "code",
   "execution_count": null,
   "metadata": {},
   "outputs": [],
   "source": [
    "print(cadena.title())"
   ]
  },
  {
   "cell_type": "code",
   "execution_count": null,
   "metadata": {},
   "outputs": [],
   "source": [
    "print(cadena.capitalize())"
   ]
  },
  {
   "cell_type": "code",
   "execution_count": null,
   "metadata": {},
   "outputs": [],
   "source": [
    "print(cadena.replace(\"m\",\"M\"))"
   ]
  },
  {
   "cell_type": "code",
   "execution_count": null,
   "metadata": {},
   "outputs": [],
   "source": [
    "print(cadena.isnumeric())"
   ]
  },
  {
   "cell_type": "markdown",
   "metadata": {},
   "source": [
    "### Formateo de cadenas\n",
    "\n",
    "Los modos para dar formato antes de las *cadenas f* abarcan el formato de sustitución que es reconocido por el uso del signo % y las funciones *str.format()* y *string.Template()*.\n"
   ]
  },
  {
   "cell_type": "markdown",
   "metadata": {},
   "source": [
    "**Formateo con %.**\n",
    "\n",
    "El formato basado en % sólo es válido para los tipos de datos *str*, *int* y *float*."
   ]
  },
  {
   "cell_type": "code",
   "execution_count": null,
   "metadata": {},
   "outputs": [],
   "source": [
    "nombre = 'Claudia'\n",
    "edad = 35\n",
    "altura = 1.82"
   ]
  },
  {
   "cell_type": "code",
   "execution_count": null,
   "metadata": {},
   "outputs": [],
   "source": [
    "print('Tiene %i años.' %edad)\n",
    "print('%s tiene %i años y mide %f metros.' %(nombre, edad, altura))"
   ]
  },
  {
   "cell_type": "code",
   "execution_count": null,
   "metadata": {},
   "outputs": [],
   "source": [
    "print('%s tiene %10i años y mide %.2f metros.' %(nombre, edad, altura))"
   ]
  },
  {
   "cell_type": "code",
   "execution_count": null,
   "metadata": {},
   "outputs": [],
   "source": [
    "print('%-30s tiene %i años y mide %7.2f metros.' %(nombre, edad, altura))"
   ]
  },
  {
   "cell_type": "code",
   "execution_count": null,
   "metadata": {},
   "outputs": [],
   "source": [
    "print('%+30s tiene %i años y mide %0.0f metros.' %(nombre, edad, altura))"
   ]
  },
  {
   "cell_type": "markdown",
   "metadata": {},
   "source": [
    "**Formateo con str.format()**\n",
    "\n",
    "El formato con *str.format()* permite fijar la longitud de una cadena, aplicar formatos numéricos, establecer la \n",
    "alineación, tabular datos y rellenar espacios con un determinado caracter."
   ]
  },
  {
   "cell_type": "code",
   "execution_count": 2,
   "metadata": {},
   "outputs": [],
   "source": [
    "valor1 = 8.56767\n",
    "valor2 = 9.4554"
   ]
  },
  {
   "cell_type": "code",
   "execution_count": 7,
   "metadata": {},
   "outputs": [
    {
     "name": "stdout",
     "output_type": "stream",
     "text": [
      "8.57 - 9.455\n"
     ]
    }
   ],
   "source": [
    "print('{0:.3} - {1:.4}'.format(valor1, valor2))"
   ]
  },
  {
   "cell_type": "code",
   "execution_count": 17,
   "metadata": {},
   "outputs": [
    {
     "name": "stdout",
     "output_type": "stream",
     "text": [
      "9.46 - 8.568\n"
     ]
    }
   ],
   "source": [
    "print('{1:.3} - {0:.4}'.format(valor1, valor2))"
   ]
  },
  {
   "cell_type": "code",
   "execution_count": 8,
   "metadata": {},
   "outputs": [
    {
     "name": "stdout",
     "output_type": "stream",
     "text": [
      "3.6\n"
     ]
    }
   ],
   "source": [
    "print(\"{0:.2}\".format(3.5678))"
   ]
  },
  {
   "cell_type": "code",
   "execution_count": 21,
   "metadata": {},
   "outputs": [
    {
     "name": "stdout",
     "output_type": "stream",
     "text": [
      "8.57 - 9.455 | 8.5677 - 9e+00\n"
     ]
    }
   ],
   "source": [
    "print('{0:.3} - {1:.4} | {0:.5} - {1:.0}'.format(valor1, valor2))"
   ]
  },
  {
   "cell_type": "code",
   "execution_count": 23,
   "metadata": {},
   "outputs": [
    {
     "name": "stdout",
     "output_type": "stream",
     "text": [
      "42.8 - 0.1688\n"
     ]
    }
   ],
   "source": [
    "print('{0:.3} - {1:.4}'.format(valor1*5, valor2/56))"
   ]
  },
  {
   "cell_type": "code",
   "execution_count": null,
   "metadata": {},
   "outputs": [],
   "source": []
  }
 ],
 "metadata": {
  "kernelspec": {
   "display_name": "Python 3",
   "language": "python",
   "name": "python3"
  },
  "language_info": {
   "codemirror_mode": {
    "name": "ipython",
    "version": 3
   },
   "file_extension": ".py",
   "mimetype": "text/x-python",
   "name": "python",
   "nbconvert_exporter": "python",
   "pygments_lexer": "ipython3",
   "version": "3.7.3"
  }
 },
 "nbformat": 4,
 "nbformat_minor": 2
}
