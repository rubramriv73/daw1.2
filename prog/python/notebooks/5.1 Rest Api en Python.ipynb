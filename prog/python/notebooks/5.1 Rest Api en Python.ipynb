{
 "cells": [
  {
   "cell_type": "markdown",
   "metadata": {},
   "source": [
    "# Servicio Web\n",
    "\n",
    "Un **servicio web** es un sistema software diseñado para soportar la interacción máquina-a-máquina a través de una red (*Internet*), de forma interoperable. Cuenta con una interfaz descrita en un formato procesable por un equipo informático a través de la que es posible interactuar con el mismo sobre HTTP conjuntamente con otros estándares web.\n",
    "\n",
    "* Las páginas web la usan personas.\n",
    "* Los servicios web lo usan programas.\n",
    "    \n",
    "Mediante diferentes APIs podemos construir aplicaciones basadas en estos servicios de manera que:\n",
    "\n",
    "* Podemos **consumir** (solo lectura) recursos.\n",
    "* Podemos **modificar** (lectura/escritura) recursos.\n",
    "\n",
    "Web con recopilación de servicios web que ofrecen APIs: <https://www.programmableweb.com/>\n",
    "\n",
    "<img src=\"https://www.arquitecturajava.com/wp-content/uploads/00233.png\">"
   ]
  },
  {
   "cell_type": "markdown",
   "metadata": {},
   "source": [
    "# REST (RESTful Web API)\n",
    "\n",
    "La transferencia de estado representacional (*representational state transfer*) o REST es un estilo de arquitectura software para sistemas hipermedia distribuidos como la World Wide Web. En la actualidad este término se usa para describir cualquier interfaz entre sistemas que utilice directamente HTTP para obtener datos o indicar la ejecución de operaciones sobre los datos, en cualquier formato (XML, JSON, etc) sin las abstracciones adicionales de los protocolos basados en patrones de intercambio de mensajes, como por ejemplo SOAP.\n",
    "\n",
    "En la práctica es un mecanismo para **implementar servicios web** que utiliza el protocolo **HTTP** para la comunicación entre el cliente y el servidor.\n",
    "\n",
    "* El cliente realiza una petición HTTP:\n",
    "    - **GET**: consumidor de recursos.\n",
    "    - **POST**, PUT, DELETE, ...: modificador de recursos.\n",
    "* El servidor devuelve la información en un determinador formato (XML, **JSON**).\n",
    "\n",
    "Para realizar las peticiones algunos servicios web necesitan autentificación, especialmente cuando implican modificaciones:\n",
    "\n",
    "* Con clave (**key**) proporcionada por quienes gestionen el servicio web.\n",
    "* Otros métodos donde se usan mecanismos de autorización más seguros: OAuth, **OAuth2**...\n",
    "\n",
    "<img src=\"http://blog.bi-geek.com/wp-content/uploads/2017/12/00_RESTFUL_WEBSERVICES_GET.png\"><img src=\"http://blog.bi-geek.com/wp-content/uploads/2017/12/01_RESTFUL_WEBSERVICES_POST-1.png\">"
   ]
  },
  {
   "cell_type": "markdown",
   "metadata": {},
   "source": [
    "# JSON\n",
    "\n",
    "JSON (acrónimo de *JavaScript Object Notation*, «notación de objeto de JavaScript») es un formato de texto sencillo para el intercambio de datos y un lenguaje de marcas para representar información. \n",
    "\n",
    "Se trata de un subconjunto de la notación literal de objetos de JavaScript, aunque, debido a su amplia adopción como **alternativa a XML**, se considera un formato independiente del lenguaje.\n",
    "\n",
    "<img src=\"https://www.oxygenxml.com/img/JSONConverter_online.png\">"
   ]
  },
  {
   "cell_type": "markdown",
   "metadata": {},
   "source": [
    "## JSON y Python\n",
    "\n",
    "El formato **JSON es bastante similar a la sintaxis de Python**, pues contiene únicamente dos tipos de estructuras: **diccionarios y listas**. Diccionario es lo que en Python conocemos como tal, un conjunto de pares con una clave y un valor. Y una lista no es más que un conjunto ordenado de objetos.\n",
    "\n",
    "En el formato JSON, un diccionario se conoce con el nombre de objeto, y una lista con el nombre de vector o array.\n",
    "\n",
    "Existen algunas diferencias en la sintaxis con Python:\n",
    "\n",
    "* Se usa *null* para indicar un valor vacío (en Python *None*)\n",
    "* Se requieren comillas dobles (en Python se pueden usar simples también). \n",
    "* Los valores booleanos son *true* y *false* (en Python *True* y *False*)."
   ]
  },
  {
   "cell_type": "code",
   "execution_count": 1,
   "metadata": {},
   "outputs": [
    {
     "name": "stdout",
     "output_type": "stream",
     "text": [
      "{\"nombre\": \"Josefa Miraflores\", \"edad\": 25, \"casada\": false}\n"
     ]
    }
   ],
   "source": [
    "# Paso de datos a JSON\n",
    " \n",
    "import json\n",
    "\n",
    "d = {'nombre':'Josefa Miraflores', 'edad':25, 'casada':False}\n",
    "print(json.dumps(d))"
   ]
  },
  {
   "cell_type": "code",
   "execution_count": 2,
   "metadata": {},
   "outputs": [
    {
     "name": "stdout",
     "output_type": "stream",
     "text": [
      "{'nombre': 'Josefa Miraflores', 'edad': 25, 'casada': False}\n"
     ]
    }
   ],
   "source": [
    "# de JSON a Python\n",
    "\n",
    "d2 = json.loads('{\"nombre\": \"Josefa Miraflores\", \"edad\": 25, \"casada\": false}')\n",
    "print(d2)"
   ]
  },
  {
   "cell_type": "markdown",
   "metadata": {},
   "source": [
    "# Python3 y REST\n",
    "\n",
    "En Python, como en otros lenguajes, podemos hacer uso de API RESTful para consumir y modificar recursos de servicios web, para ello necesitamos de dos librerías:\n",
    "\n",
    "* **requests**: para manejar peticiones HTTP.\n",
    "* **json**: para intercambiar información en esas peticiones usando json.\n",
    "\n",
    "Si no tenemos instalada alguna de estas librerías (*requests* no estará si no lo hemos hecho con anterioridad) tendremos que hacerlo, si es para hacer pruebas es más recomendable usar un entorno virtual. Si usamos Pycharm también nos hará falta la instalación.\n",
    "\n",
    "* [Instalación de paquetes usando *pip* y *entornos virtuales*](https://packaging.python.org/guides/installing-using-pip-and-virtual-environments/)\n",
    "* [Creación de *entornos virtuales*](http://docs.python.org.ar/tutorial/3/venv.html)\n",
    "* [Instalar, desinstalar y actualizar paquetes con Pycharm](https://www.jetbrains.com/help/pycharm/installing-uninstalling-and-upgrading-packages.html)\n",
    "* [Instalar e importar con Pycharm](https://www.jetbrains.com/pycharm/guide/tips/install-and-import/)"
   ]
  },
  {
   "cell_type": "code",
   "execution_count": null,
   "metadata": {},
   "outputs": [],
   "source": [
    "# Instalación de requests en jupyter\n",
    "# En un CLI sustituir \"!{sys.executable}\" por el ejecutable de Python e ignorar resto de líneas\n",
    "\n",
    "import sys\n",
    "!{sys.executable} -m pip install requests\n",
    "sys.path.append(\"/home/rafa/snap/jupyter/common/lib/python3.7/site-packages\")"
   ]
  },
  {
   "cell_type": "markdown",
   "metadata": {},
   "source": [
    "## Ejemplo 1: ¿Cuál es la calidad del aire?\n",
    "\n",
    "Vamos a usar la [API](https://docs.openaq.org/) de <https://openaq.org/#/?_k=dp6oif> para conocer la calidad del aire de diferentes localizaciones. No necesitaremos ninguna clave de acceso.\n",
    "<img src=\"https://img.eldefinido.cl/portadas/650/2018-03-18-1233YDZ7235.jpg\">"
   ]
  },
  {
   "cell_type": "code",
   "execution_count": 2,
   "metadata": {},
   "outputs": [
    {
     "name": "stdout",
     "output_type": "stream",
     "text": [
      "Petición URL: https://api.openaq.org/v1/latest?city=Cordoba&parameter=no2 \n",
      "\n",
      "Status Code: 200 \n",
      "\n",
      "Información devuelta: {'meta': {'name': 'openaq-api', 'license': 'CC BY 4.0', 'website': 'https://docs.openaq.org/', 'page': 1, 'limit': 100, 'found': 3}, 'results': [{'location': 'Asomadilla', 'city': 'Cordoba', 'country': 'ES', 'distance': 1811380.201502308, 'measurements': [{'parameter': 'no2', 'value': 11, 'lastUpdated': '2018-10-12T22:00:00.000Z', 'unit': 'µg/m³', 'sourceName': 'Andalucia', 'averagingPeriod': {'value': 1, 'unit': 'hours'}}], 'coordinates': {'latitude': 37.90274, 'longitude': -4.779572}}, {'location': 'Avda. Al-nasir', 'city': 'Cordoba', 'country': 'ES', 'distance': 1812436.1523714154, 'measurements': [{'parameter': 'no2', 'value': 1, 'lastUpdated': '2018-10-09T22:00:00.000Z', 'unit': 'µg/m³', 'sourceName': 'Andalucia', 'averagingPeriod': {'value': 1, 'unit': 'hours'}}], 'coordinates': {'latitude': 37.892593, 'longitude': -4.7801237}}, {'location': 'Lepanto', 'city': 'Cordoba', 'country': 'ES', 'distance': 1811818.1523674421, 'measurements': [{'parameter': 'no2', 'value': 38, 'lastUpdated': '2018-10-12T22:00:00.000Z', 'unit': 'µg/m³', 'sourceName': 'Andalucia', 'averagingPeriod': {'value': 1, 'unit': 'hours'}}], 'coordinates': {'latitude': 37.89261, 'longitude': -4.762338}}]} \n",
      "\n",
      "Mediciones:\n",
      "-Asomadilla [{'parameter': 'no2', 'value': 11, 'lastUpdated': '2018-10-12T22:00:00.000Z', 'unit': 'µg/m³', 'sourceName': 'Andalucia', 'averagingPeriod': {'value': 1, 'unit': 'hours'}}]\n",
      "-Avda. Al-nasir [{'parameter': 'no2', 'value': 1, 'lastUpdated': '2018-10-09T22:00:00.000Z', 'unit': 'µg/m³', 'sourceName': 'Andalucia', 'averagingPeriod': {'value': 1, 'unit': 'hours'}}]\n",
      "-Lepanto [{'parameter': 'no2', 'value': 38, 'lastUpdated': '2018-10-12T22:00:00.000Z', 'unit': 'µg/m³', 'sourceName': 'Andalucia', 'averagingPeriod': {'value': 1, 'unit': 'hours'}}]\n"
     ]
    }
   ],
   "source": [
    "\"\"\"\n",
    "Calidad del aire en Córdoba.\n",
    "Más info: http://www.juntadeandalucia.es/medioambiente/site/portalweb/menuitem.7e1cf46ddf59bb227a9ebe205510e1ca/\n",
    "\n",
    "Usamos la API de openaq: https://docs.openaq.org/\n",
    "\"\"\"\n",
    "\n",
    "import requests\n",
    "\n",
    "# datos para hacer la petición GET\n",
    "url = 'https://api.openaq.org/v1/latest'\n",
    "parametros = {'city':'Cordoba', 'parameter':'no2'}\n",
    "\n",
    "# petición GET\n",
    "r = requests.get(url, params=parametros)\n",
    "\n",
    "# resultados\n",
    "print(\"Petición URL:\", r.url, \"\\n\")\n",
    "print(\"Status Code:\", r.status_code, \"\\n\")\n",
    "\n",
    "datos = r.json() \n",
    "print(\"Información devuelta:\", datos, \"\\n\")\n",
    "\n",
    "print(\"Mediciones:\")\n",
    "for loc in datos['results']:\n",
    "    print(\"-\" + loc['location'], loc['measurements'])\n"
   ]
  },
  {
   "cell_type": "markdown",
   "metadata": {},
   "source": [
    "## Ejemplo 2: ¿Qué tiempo va a hacer?\n",
    "\n",
    "Vamos a usar la [API](https://openweathermap.org/api) proporcionada por <https://openweathermap.org/> para conocer diferentes aspectos metereológicos de localizaciones concretas. Necesitaremos una clave de acceso.\n",
    "\n",
    "<img src=\"https://cdn.eldoce.tv/sites/default/files/styles/site_galeria_contenido/public/galeria/2017/01/03/Calor%204.jpg?itok=Hshr7BVz\">"
   ]
  },
  {
   "cell_type": "code",
   "execution_count": 3,
   "metadata": {},
   "outputs": [
    {
     "name": "stdout",
     "output_type": "stream",
     "text": [
      "Petición URL: https://api.openweathermap.org/data/2.5/weather?q=Cordoba%2Ces&mode=json&units=metric&APPID=ed2f1164f5311df5b09b59cd76073764 \n",
      "\n",
      "Status Code: 200 \n",
      "\n",
      "Información devuelta: {'coord': {'lon': -4.83, 'lat': 38}, 'weather': [{'id': 800, 'main': 'Clear', 'description': 'clear sky', 'icon': '01d'}], 'base': 'stations', 'main': {'temp': 18.32, 'feels_like': 16.18, 'temp_min': 18, 'temp_max': 18.89, 'pressure': 1023, 'humidity': 48}, 'visibility': 10000, 'wind': {'speed': 2.1, 'deg': 70}, 'clouds': {'all': 0}, 'dt': 1582204555, 'sys': {'type': 1, 'id': 6394, 'country': 'ES', 'sunrise': 1582182254, 'sunset': 1582221740}, 'timezone': 3600, 'id': 2519239, 'name': 'Cordoba', 'cod': 200} \n",
      "\n"
     ]
    }
   ],
   "source": [
    "\"\"\"\n",
    "Vamos a ver qué tiempo hace en Córdoba usando la API de openwheather.\n",
    "\n",
    "Deberíamos guardar la clave (key) en una variable de entorno para que no esté en el fichero del programa.\n",
    "\n",
    "La clave utilizada aquí es una variable de entorno definida en mi ordenador, tendréis que definir y\n",
    "usar la vuestra.\n",
    "\n",
    "Documentación de esta API: https://openweathermap.org/api\n",
    "\"\"\"\n",
    "\n",
    "import os\n",
    "import requests\n",
    "import time\n",
    "\n",
    "# datos para hacer la petición GET\n",
    "api_key = os.getenv(\"OPEN_WEATHER_KEY\") # asigno valor api de mi variable de entorno OPEN_WEATHER_KEY\n",
    "url = \"https://api.openweathermap.org/data/2.5/weather\"\n",
    "parametros = {'q':'Cordoba,es', 'mode':'json', 'units':'metric', 'APPID':api_key}\n",
    "\n",
    "# petición GET\n",
    "r = requests.get(url, params=parametros)\n",
    "\n",
    "# resultados\n",
    "print(\"Petición URL:\", r.url, \"\\n\")\n",
    "print(\"Status Code:\", r.status_code, \"\\n\")\n",
    "\n",
    "datos = r.json() \n",
    "print(\"Información devuelta:\", datos, \"\\n\")\n"
   ]
  },
  {
   "cell_type": "code",
   "execution_count": 11,
   "metadata": {
    "scrolled": true
   },
   "outputs": [
    {
     "name": "stdout",
     "output_type": "stream",
     "text": [
      "{'coord': {'lon': -4.83, 'lat': 38}, 'weather': [{'id': 800, 'main': 'Clear', 'description': 'cielo claro', 'icon': '01d'}], 'base': 'stations', 'main': {'temp': 16.45, 'feels_like': 15.88, 'temp_min': 16, 'temp_max': 17.22, 'pressure': 1030, 'humidity': 67}, 'visibility': 10000, 'wind': {'speed': 1, 'deg': 160}, 'clouds': {'all': 0}, 'dt': 1581938877, 'sys': {'type': 1, 'id': 6394, 'country': 'ES', 'sunrise': 1581923276, 'sunset': 1581962346}, 'timezone': 3600, 'id': 2519239, 'name': 'Cordoba', 'cod': 200}\n"
     ]
    }
   ],
   "source": [
    "# añadimos soporte multilingüe (ver documentación API)\n",
    "\n",
    "parametros['lang'] = 'es'\n",
    "r = requests.get(url, params=parametros)\n",
    "print(r.json())"
   ]
  },
  {
   "cell_type": "code",
   "execution_count": 12,
   "metadata": {},
   "outputs": [
    {
     "name": "stdout",
     "output_type": "stream",
     "text": [
      "Datos tomados en: Cordoba-ES, en fecha: Mon Feb 17 12:27:57 2020\n",
      "Coordenadas: [38,-4.83]\n"
     ]
    }
   ],
   "source": [
    "# formateamos la salida. Consultad https://openweathermap.org/current#current_JSON\n",
    "\n",
    "datos = r.json()\n",
    "print(\"Datos tomados en:\", datos['name'] + \"-\" + datos['sys']['country'], end=\", \")\n",
    "print(\"en fecha:\", time.ctime(datos['dt']))\n",
    "print(f\"Coordenadas: [{datos['coord']['lat']},{datos['coord']['lon']}]\")\n"
   ]
  },
  {
   "cell_type": "code",
   "execution_count": 13,
   "metadata": {},
   "outputs": [
    {
     "name": "stdout",
     "output_type": "stream",
     "text": [
      "Tiempo: cielo claro\n"
     ]
    }
   ],
   "source": [
    "# los datos del tiempo son una lista\n",
    "\n",
    "for t in datos['weather']:\n",
    "    print(\"Tiempo:\", t['description'])"
   ]
  },
  {
   "cell_type": "code",
   "execution_count": 14,
   "metadata": {},
   "outputs": [
    {
     "name": "stdout",
     "output_type": "stream",
     "text": [
      "Temperatura: 16.45 ºC\n",
      "Presión: 1030 hPa\n",
      "Humedad: 67 %\n",
      "Velocidad Viento: 1 m/s\n"
     ]
    }
   ],
   "source": [
    "# mediciones\n",
    "\n",
    "print(\"Temperatura:\", datos[\"main\"][\"temp\"], \"ºC\")\n",
    "print(\"Presión:\", datos[\"main\"][\"pressure\"], \"hPa\")\n",
    "print(\"Humedad:\", datos[\"main\"][\"humidity\"], \"%\")\n",
    "print(\"Velocidad Viento:\", datos[\"wind\"][\"speed\"], \"m/s\")"
   ]
  }
 ],
 "metadata": {
  "kernelspec": {
   "display_name": "Python 3",
   "language": "python",
   "name": "python3"
  },
  "language_info": {
   "codemirror_mode": {
    "name": "ipython",
    "version": 3
   },
   "file_extension": ".py",
   "mimetype": "text/x-python",
   "name": "python",
   "nbconvert_exporter": "python",
   "pygments_lexer": "ipython3",
   "version": "3.7.3"
  }
 },
 "nbformat": 4,
 "nbformat_minor": 2
}
