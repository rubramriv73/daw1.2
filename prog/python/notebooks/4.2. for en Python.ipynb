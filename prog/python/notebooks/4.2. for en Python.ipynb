{
 "cells": [
  {
   "cell_type": "markdown",
   "metadata": {},
   "source": [
    "# for en Python\n",
    "\n",
    "Formato: for <variable de control> in <lista de valores>:\n",
    "            ..."
   ]
  },
  {
   "cell_type": "code",
   "execution_count": null,
   "metadata": {},
   "outputs": [],
   "source": [
    "for i in [1,2,3,4,5,6,7,8,9,10]:\n",
    "    print(\"El valor es\", i)"
   ]
  },
  {
   "cell_type": "code",
   "execution_count": null,
   "metadata": {},
   "outputs": [],
   "source": [
    "for nombre in [\"Pepe\", \"Antonio\", \"Lola\"]:\n",
    "    print(\"El nombre es\", nombre)"
   ]
  },
  {
   "cell_type": "markdown",
   "metadata": {},
   "source": [
    "El ciclo PARA en Algoritmia es un ciclo determinado.\n",
    "\n",
    "Formato en pseudocódigo:\n",
    "\n",
    "PARA variable_control DESDE valor_inicial HASTA valor_final\n",
    "    ...\n",
    "FIN-PARA\n",
    "\n",
    "Funcionaría como un ciclo MIENTRAS de la siguiente forma:\n",
    "\n",
    "variable_control <-- valor_inicial\n",
    "MIENTRAS variable_control <= valor_final\n",
    "    ...\n",
    "    variable_control <-- variable_control + incremento (suele ser 1)\n",
    "FIN-MIENTRAS\n",
    "\n",
    "Normalmente podemos indicar el *paso* o el incremento de la variable de control al final de la iteración y si el ciclo es incremental o decremental."
   ]
  },
  {
   "cell_type": "markdown",
   "metadata": {},
   "source": [
    "Para implementarlo tal cual en Python hacemos uso de **range**\n",
    "\n",
    "range(n) --> devuelve una lista desde 0 hasta n-1\n",
    "range(ini,fin) --> devuelve desde ini hasta fin-1 (si ini<fin)\n",
    "range(ini,fin,paso) --> el incremento es *paso*"
   ]
  },
  {
   "cell_type": "code",
   "execution_count": null,
   "metadata": {},
   "outputs": [],
   "source": [
    "for i in range(10):\n",
    "    print(i)"
   ]
  },
  {
   "cell_type": "code",
   "execution_count": null,
   "metadata": {},
   "outputs": [],
   "source": [
    "valor_final=10\n",
    "for i in range(valor_final):\n",
    "    print(i+1)"
   ]
  },
  {
   "cell_type": "code",
   "execution_count": null,
   "metadata": {},
   "outputs": [],
   "source": [
    "for i in range(5,11):\n",
    "    print(i)"
   ]
  },
  {
   "cell_type": "code",
   "execution_count": null,
   "metadata": {},
   "outputs": [],
   "source": [
    "inicio = 5\n",
    "fin = 10\n",
    "for i in range(inicio, fin+1):\n",
    "    print(i)"
   ]
  },
  {
   "cell_type": "code",
   "execution_count": null,
   "metadata": {},
   "outputs": [],
   "source": [
    "for i in range(0,11,2):\n",
    "    print(i)"
   ]
  },
  {
   "cell_type": "code",
   "execution_count": null,
   "metadata": {},
   "outputs": [],
   "source": [
    "for i in range(10,0,-1):\n",
    "    print(i)"
   ]
  },
  {
   "cell_type": "code",
   "execution_count": null,
   "metadata": {},
   "outputs": [],
   "source": [
    "for i in range(10,0,-3):\n",
    "    print(i)"
   ]
  },
  {
   "cell_type": "code",
   "execution_count": null,
   "metadata": {},
   "outputs": [],
   "source": [
    "inicio = 0\n",
    "fin = 10\n",
    "paso = 2\n",
    "for i in range(inicio, fin+1, paso):\n",
    "    print(i)"
   ]
  },
  {
   "cell_type": "code",
   "execution_count": null,
   "metadata": {},
   "outputs": [],
   "source": [
    "inicio = 10\n",
    "fin = 0\n",
    "paso = -2\n",
    "for i in range(inicio, fin-1, paso):\n",
    "    print(i)"
   ]
  },
  {
   "cell_type": "code",
   "execution_count": null,
   "metadata": {},
   "outputs": [],
   "source": [
    "# El usuario nos da inicio, fin y paso\n",
    "# (con el paso negativo funciona regular)\n",
    "\n",
    "inicio = int(input(\"Inicio: \"))\n",
    "fin = int(input(\"Fin: \"))\n",
    "paso = int(input(\"Paso: \"))\n",
    "for i in range(inicio, fin+1, paso):\n",
    "    print(i)"
   ]
  },
  {
   "cell_type": "code",
   "execution_count": null,
   "metadata": {},
   "outputs": [],
   "source": [
    "# El usuario nos da inicio, fin y paso\n",
    "# (con el paso negativo funciona bien, forma 1)\n",
    "\n",
    "inicio = int(input(\"Inicio: \"))\n",
    "fin = int(input(\"Fin: \"))\n",
    "paso = int(input(\"Paso: \"))\n",
    "\n",
    "# ¿Voy hacia atrás o hacia delante?\n",
    "if paso < 0:\n",
    "    fin -= 1\n",
    "else:\n",
    "    fin += 1\n",
    "\n",
    "# Ciclo\n",
    "for i in range(inicio, fin, paso):\n",
    "    print(i)"
   ]
  },
  {
   "cell_type": "code",
   "execution_count": null,
   "metadata": {},
   "outputs": [],
   "source": [
    "# El usuario nos da inicio, fin y paso\n",
    "# (con el paso negativo funciona bien, forma 2, sin condicional)\n",
    "\n",
    "inicio = int(input(\"Inicio: \"))\n",
    "fin = int(input(\"Fin: \"))\n",
    "paso = int(input(\"Paso: \"))\n",
    "\n",
    "# Para saber si el incremento de fin es +1 ó -1 dividimos el paso\n",
    "# por su valor absoluto, nos dará +1 si paso es positivo y -1 si\n",
    "# es negativo.\n",
    "inc = paso//abs(paso)\n",
    "\n",
    "for i in range(inicio, fin+inc, paso):\n",
    "    print(i)"
   ]
  },
  {
   "cell_type": "code",
   "execution_count": null,
   "metadata": {},
   "outputs": [],
   "source": []
  }
 ],
 "metadata": {
  "kernelspec": {
   "display_name": "Python 3",
   "language": "python",
   "name": "python3"
  },
  "language_info": {
   "codemirror_mode": {
    "name": "ipython",
    "version": 3
   },
   "file_extension": ".py",
   "mimetype": "text/x-python",
   "name": "python",
   "nbconvert_exporter": "python",
   "pygments_lexer": "ipython3",
   "version": "3.7.3"
  }
 },
 "nbformat": 4,
 "nbformat_minor": 2
}
